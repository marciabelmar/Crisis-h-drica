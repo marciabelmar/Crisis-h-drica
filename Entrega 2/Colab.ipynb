{
  "nbformat": 4,
  "nbformat_minor": 0,
  "metadata": {
    "colab": {
      "provenance": []
    },
    "kernelspec": {
      "name": "python3",
      "display_name": "Python 3"
    },
    "language_info": {
      "name": "python"
    }
  },
  "cells": [
    {
      "cell_type": "code",
      "source": [
        "import pandas as pd\n",
        "\n",
        "# Ruta del archivo de Excel a limpiar\n",
        "file_path = '/content/drive/MyDrive/articles-17471_recurso_Resultado2019.xlsx'\n",
        "\n",
        "# Función para limpiar el archivo\n",
        "def limpiar_archivo(file_path):\n",
        "    # Paso 1: Establecer la fila correcta para los encabezados (fila 3)\n",
        "    header_row = 3\n",
        "    df_clean = pd.read_excel(file_path, header=header_row)\n",
        "\n",
        "    # Paso 2: Eliminar filas completamente vacías\n",
        "    df_clean.dropna(how='all', inplace=True)\n",
        "\n",
        "    # Paso 3: Asignar nombres claros a las columnas\n",
        "    df_clean.columns = df_clean.columns.str.replace('\\n', ' ').fillna('').str.strip()\n",
        "    df_clean.columns = ['Año', 'Mes', 'Total Servicios', 'Bacteriología', 'Turbiedad',\n",
        "                        'Cloro Libre', 'Cloro Libre - Calidad', 'Parámetros Mensuales - Muestra',\n",
        "                        'Parámetros Mensuales - Calidad', 'Parámetros Semestrales - Muestra',\n",
        "                        'Parámetros Semestrales - Calidad', 'Control Mensual', 'Control Semestral']\n",
        "\n",
        "    # Paso 4: Eliminar filas con valores no numéricos en la columna \"Año\"\n",
        "    df_clean['Año'] = pd.to_numeric(df_clean['Año'], errors='coerce')\n",
        "    df_clean.dropna(subset=['Año'], inplace=True)\n",
        "\n",
        "    # Paso 5: Convertir columnas numéricas restantes a sus tipos apropiados\n",
        "    num_columns = ['Año', 'Bacteriología', 'Turbiedad', 'Cloro Libre', 'Cloro Libre - Calidad',\n",
        "                   'Parámetros Mensuales - Muestra', 'Parámetros Mensuales - Calidad',\n",
        "                   'Parámetros Semestrales - Muestra', 'Parámetros Semestrales - Calidad',\n",
        "                   'Control Mensual', 'Control Semestral']\n",
        "\n",
        "    # Convertir todas las columnas numéricas a números\n",
        "    for col in num_columns:\n",
        "        df_clean[col] = pd.to_numeric(df_clean[col], errors='coerce')\n",
        "\n",
        "    # Paso 6: Eliminar la columna \"Total Servicios\"\n",
        "    df_clean.drop(columns=['Total Servicios'], inplace=True)\n",
        "\n",
        "    # Paso 7: Eliminar el desglose por meses, dejando solo la última fila por año\n",
        "    df_clean_final = df_clean.groupby('Año').tail(1)\n",
        "\n",
        "    # Retornar el DataFrame limpio y reducido\n",
        "    return df_clean_final\n",
        "\n",
        "# Usar la función para limpiar el archivo\n",
        "df_limpio = limpiar_archivo(file_path)\n",
        "\n",
        "# Guardar el archivo limpio directamente como CSV\n",
        "nombre_salida_csv = file_path.replace('.xlsx', '_limpio_sin_meses.csv')\n",
        "df_limpio.to_csv(nombre_salida_csv, index=False)\n",
        "\n",
        "print(f\"Archivo CSV guardado en: {nombre_salida_csv}\")\n",
        "\n",
        "\n",
        "\n"
      ],
      "metadata": {
        "colab": {
          "base_uri": "https://localhost:8080/"
        },
        "id": "RLx5UbSVPoXY",
        "outputId": "d64620dc-5b88-4e9f-f8b1-1299ce7dbebe"
      },
      "execution_count": 52,
      "outputs": [
        {
          "output_type": "stream",
          "name": "stdout",
          "text": [
            "Archivo CSV guardado en: /content/drive/MyDrive/articles-17471_recurso_Resultado2019_limpio_sin_meses.csv\n"
          ]
        }
      ]
    },
    {
      "cell_type": "code",
      "source": [
        "import pandas as pd\n",
        "\n",
        "# Ruta del archivo de Excel a limpiar\n",
        "file_path = '/content/drive/MyDrive/articles-17807_recurso_Resultado2020.xlsx'\n",
        "\n",
        "# Función para limpiar el archivo\n",
        "def limpiar_archivo(file_path):\n",
        "    # Paso 1: Establecer la fila correcta para los encabezados (fila 3)\n",
        "    header_row = 3\n",
        "    df_clean = pd.read_excel(file_path, header=header_row)\n",
        "\n",
        "    # Paso 2: Eliminar filas completamente vacías\n",
        "    df_clean.dropna(how='all', inplace=True)\n",
        "\n",
        "    # Paso 3: Asignar nombres claros a las columnas\n",
        "    df_clean.columns = df_clean.columns.str.replace('\\n', ' ').fillna('').str.strip()\n",
        "    df_clean.columns = ['Año', 'Mes', 'Total Servicios', 'Bacteriología', 'Turbiedad',\n",
        "                        'Cloro Libre', 'Cloro Libre - Calidad', 'Parámetros Mensuales - Muestra',\n",
        "                        'Parámetros Mensuales - Calidad', 'Parámetros Semestrales - Muestra',\n",
        "                        'Parámetros Semestrales - Calidad', 'Control Mensual', 'Control Semestral']\n",
        "\n",
        "    # Paso 4: Eliminar filas con valores no numéricos en la columna \"Año\"\n",
        "    df_clean['Año'] = pd.to_numeric(df_clean['Año'], errors='coerce')\n",
        "    df_clean.dropna(subset=['Año'], inplace=True)\n",
        "\n",
        "    # Paso 5: Convertir columnas numéricas restantes a sus tipos apropiados\n",
        "    num_columns = ['Año', 'Bacteriología', 'Turbiedad', 'Cloro Libre', 'Cloro Libre - Calidad',\n",
        "                   'Parámetros Mensuales - Muestra', 'Parámetros Mensuales - Calidad',\n",
        "                   'Parámetros Semestrales - Muestra', 'Parámetros Semestrales - Calidad',\n",
        "                   'Control Mensual', 'Control Semestral']\n",
        "\n",
        "    # Convertir todas las columnas numéricas a números\n",
        "    for col in num_columns:\n",
        "        df_clean[col] = pd.to_numeric(df_clean[col], errors='coerce')\n",
        "\n",
        "    # Paso 6: Eliminar la columna \"Total Servicios\"\n",
        "    df_clean.drop(columns=['Total Servicios'], inplace=True)\n",
        "\n",
        "    # Paso 7: Eliminar el desglose por meses, dejando solo la última fila por año\n",
        "    df_clean_final = df_clean.groupby('Año').tail(1)\n",
        "\n",
        "    # Retornar el DataFrame limpio y reducido\n",
        "    return df_clean_final\n",
        "\n",
        "# Usar la función para limpiar el archivo\n",
        "df_limpio = limpiar_archivo(file_path)\n",
        "\n",
        "# Guardar el archivo limpio directamente como CSV\n",
        "nombre_salida_csv = file_path.replace('.xlsx', '_limpio_sin_meses.csv')\n",
        "df_limpio.to_csv(nombre_salida_csv, index=False)\n",
        "\n",
        "print(f\"Archivo CSV guardado en: {nombre_salida_csv}\")\n"
      ],
      "metadata": {
        "colab": {
          "base_uri": "https://localhost:8080/"
        },
        "id": "9bWzQVvvi8Yr",
        "outputId": "1095969f-82cf-4f23-8177-3fcf61f120d4"
      },
      "execution_count": 56,
      "outputs": [
        {
          "output_type": "stream",
          "name": "stdout",
          "text": [
            "Archivo CSV guardado en: /content/drive/MyDrive/articles-17807_recurso_Resultado2020_limpio_sin_meses.csv\n"
          ]
        }
      ]
    },
    {
      "cell_type": "code",
      "source": [
        "import pandas as pd\n",
        "\n",
        "# Ruta del archivo de Excel a limpiar\n",
        "file_path = '/content/drive/MyDrive/articles-19279_recurso_Resultado2021.xlsx'\n",
        "\n",
        "# Función para limpiar el archivo\n",
        "def limpiar_archivo(file_path):\n",
        "    # Paso 1: Establecer la fila correcta para los encabezados (fila 3)\n",
        "    header_row = 3\n",
        "    df_clean = pd.read_excel(file_path, header=header_row)\n",
        "\n",
        "    # Paso 2: Eliminar filas completamente vacías\n",
        "    df_clean.dropna(how='all', inplace=True)\n",
        "\n",
        "    # Paso 3: Asignar nombres claros a las columnas\n",
        "    df_clean.columns = df_clean.columns.str.replace('\\n', ' ').fillna('').str.strip()\n",
        "    df_clean.columns = ['Año', 'Mes', 'Total Servicios', 'Bacteriología', 'Turbiedad',\n",
        "                        'Cloro Libre', 'Cloro Libre - Calidad', 'Parámetros Mensuales - Muestra',\n",
        "                        'Parámetros Mensuales - Calidad', 'Parámetros Semestrales - Muestra',\n",
        "                        'Parámetros Semestrales - Calidad', 'Control Mensual', 'Control Semestral']\n",
        "\n",
        "    # Paso 4: Eliminar filas con valores no numéricos en la columna \"Año\"\n",
        "    df_clean['Año'] = pd.to_numeric(df_clean['Año'], errors='coerce')\n",
        "    df_clean.dropna(subset=['Año'], inplace=True)\n",
        "\n",
        "    # Paso 5: Convertir columnas numéricas restantes a sus tipos apropiados\n",
        "    num_columns = ['Año', 'Bacteriología', 'Turbiedad', 'Cloro Libre', 'Cloro Libre - Calidad',\n",
        "                   'Parámetros Mensuales - Muestra', 'Parámetros Mensuales - Calidad',\n",
        "                   'Parámetros Semestrales - Muestra', 'Parámetros Semestrales - Calidad',\n",
        "                   'Control Mensual', 'Control Semestral']\n",
        "\n",
        "    # Convertir todas las columnas numéricas a números\n",
        "    for col in num_columns:\n",
        "        df_clean[col] = pd.to_numeric(df_clean[col], errors='coerce')\n",
        "\n",
        "    # Paso 6: Eliminar la columna \"Total Servicios\"\n",
        "    df_clean.drop(columns=['Total Servicios'], inplace=True)\n",
        "\n",
        "    # Paso 7: Eliminar el desglose por meses, dejando solo la última fila por año\n",
        "    df_clean_final = df_clean.groupby('Año').tail(1)\n",
        "\n",
        "    # Retornar el DataFrame limpio y reducido\n",
        "    return df_clean_final\n",
        "\n",
        "# Usar la función para limpiar el archivo\n",
        "df_limpio = limpiar_archivo(file_path)\n",
        "\n",
        "# Guardar el archivo limpio directamente como CSV\n",
        "nombre_salida_csv = file_path.replace('.xlsx', '_limpio_sin_meses.csv')\n",
        "df_limpio.to_csv(nombre_salida_csv, index=False)\n",
        "\n",
        "print(f\"Archivo CSV guardado en: {nombre_salida_csv}\")"
      ],
      "metadata": {
        "colab": {
          "base_uri": "https://localhost:8080/"
        },
        "id": "JaHZwYobjurp",
        "outputId": "bb726d08-64e5-44b6-a31b-451697aabe16"
      },
      "execution_count": 55,
      "outputs": [
        {
          "output_type": "stream",
          "name": "stdout",
          "text": [
            "Archivo CSV guardado en: /content/drive/MyDrive/articles-19279_recurso_Resultado2021_limpio_sin_meses.csv\n"
          ]
        }
      ]
    },
    {
      "cell_type": "code",
      "source": [
        "import pandas as pd\n",
        "\n",
        "# Ruta del archivo de Excel a limpiar\n",
        "file_path = '/content/drive/MyDrive/articles-19738_recurso_Resultado2022.xlsx'\n",
        "\n",
        "# Función para limpiar el archivo\n",
        "def limpiar_archivo(file_path):\n",
        "    # Paso 1: Establecer la fila correcta para los encabezados (fila 3)\n",
        "    header_row = 3\n",
        "    df_clean = pd.read_excel(file_path, header=header_row)\n",
        "\n",
        "    # Paso 2: Eliminar filas completamente vacías\n",
        "    df_clean.dropna(how='all', inplace=True)\n",
        "\n",
        "    # Paso 3: Asignar nombres claros a las columnas\n",
        "    df_clean.columns = df_clean.columns.str.replace('\\n', ' ').fillna('').str.strip()\n",
        "    df_clean.columns = ['Año', 'Mes', 'Total Servicios', 'Bacteriología', 'Turbiedad',\n",
        "                        'Cloro Libre', 'Cloro Libre - Calidad', 'Parámetros Mensuales - Muestra',\n",
        "                        'Parámetros Mensuales - Calidad', 'Parámetros Semestrales - Muestra',\n",
        "                        'Parámetros Semestrales - Calidad', 'Control Mensual', 'Control Semestral']\n",
        "\n",
        "    # Paso 4: Eliminar filas con valores no numéricos en la columna \"Año\"\n",
        "    df_clean['Año'] = pd.to_numeric(df_clean['Año'], errors='coerce')\n",
        "    df_clean.dropna(subset=['Año'], inplace=True)\n",
        "\n",
        "    # Paso 5: Convertir columnas numéricas restantes a sus tipos apropiados\n",
        "    num_columns = ['Año', 'Bacteriología', 'Turbiedad', 'Cloro Libre', 'Cloro Libre - Calidad',\n",
        "                   'Parámetros Mensuales - Muestra', 'Parámetros Mensuales - Calidad',\n",
        "                   'Parámetros Semestrales - Muestra', 'Parámetros Semestrales - Calidad',\n",
        "                   'Control Mensual', 'Control Semestral']\n",
        "\n",
        "    # Convertir todas las columnas numéricas a números\n",
        "    for col in num_columns:\n",
        "        df_clean[col] = pd.to_numeric(df_clean[col], errors='coerce')\n",
        "\n",
        "    # Paso 6: Eliminar la columna \"Total Servicios\"\n",
        "    df_clean.drop(columns=['Total Servicios'], inplace=True)\n",
        "\n",
        "    # Paso 7: Eliminar el desglose por meses, dejando solo la última fila por año\n",
        "    df_clean_final = df_clean.groupby('Año').tail(1)\n",
        "\n",
        "    # Retornar el DataFrame limpio y reducido\n",
        "    return df_clean_final\n",
        "\n",
        "# Usar la función para limpiar el archivo\n",
        "df_limpio = limpiar_archivo(file_path)\n",
        "\n",
        "# Guardar el archivo limpio directamente como CSV\n",
        "nombre_salida_csv = file_path.replace('.xlsx', '_limpio_sin_meses.csv')\n",
        "df_limpio.to_csv(nombre_salida_csv, index=False)\n",
        "\n",
        "print(f\"Archivo CSV guardado en: {nombre_salida_csv}\")"
      ],
      "metadata": {
        "colab": {
          "base_uri": "https://localhost:8080/"
        },
        "id": "HDk5XGWjj51j",
        "outputId": "8f7a74a1-5ad3-41a3-ff2e-0dee0d6f2f45"
      },
      "execution_count": 57,
      "outputs": [
        {
          "output_type": "stream",
          "name": "stdout",
          "text": [
            "Archivo CSV guardado en: /content/drive/MyDrive/articles-19738_recurso_Resultado2022_limpio_sin_meses.csv\n"
          ]
        }
      ]
    },
    {
      "cell_type": "code",
      "source": [
        "import pandas as pd\n",
        "\n",
        "# Ruta del archivo de Excel a limpiar\n",
        "file_path = '/content/drive/MyDrive/articles-22851_recurso_Resultado2023.xlsx'\n",
        "\n",
        "# Función para limpiar el archivo\n",
        "def limpiar_archivo(file_path):\n",
        "    # Paso 1: Establecer la fila correcta para los encabezados (fila 3)\n",
        "    header_row = 3\n",
        "    df_clean = pd.read_excel(file_path, header=header_row)\n",
        "\n",
        "    # Paso 2: Eliminar filas completamente vacías\n",
        "    df_clean.dropna(how='all', inplace=True)\n",
        "\n",
        "    # Paso 3: Asignar nombres claros a las columnas\n",
        "    df_clean.columns = df_clean.columns.str.replace('\\n', ' ').fillna('').str.strip()\n",
        "    df_clean.columns = ['Año', 'Mes', 'Total Servicios', 'Bacteriología', 'Turbiedad',\n",
        "                        'Cloro Libre', 'Cloro Libre - Calidad', 'Parámetros Mensuales - Muestra',\n",
        "                        'Parámetros Mensuales - Calidad', 'Parámetros Semestrales - Muestra',\n",
        "                        'Parámetros Semestrales - Calidad', 'Control Mensual', 'Control Semestral']\n",
        "\n",
        "    # Paso 4: Eliminar filas con valores no numéricos en la columna \"Año\"\n",
        "    df_clean['Año'] = pd.to_numeric(df_clean['Año'], errors='coerce')\n",
        "    df_clean.dropna(subset=['Año'], inplace=True)\n",
        "\n",
        "    # Paso 5: Convertir columnas numéricas restantes a sus tipos apropiados\n",
        "    num_columns = ['Año', 'Bacteriología', 'Turbiedad', 'Cloro Libre', 'Cloro Libre - Calidad',\n",
        "                   'Parámetros Mensuales - Muestra', 'Parámetros Mensuales - Calidad',\n",
        "                   'Parámetros Semestrales - Muestra', 'Parámetros Semestrales - Calidad',\n",
        "                   'Control Mensual', 'Control Semestral']\n",
        "\n",
        "    # Convertir todas las columnas numéricas a números\n",
        "    for col in num_columns:\n",
        "        df_clean[col] = pd.to_numeric(df_clean[col], errors='coerce')\n",
        "\n",
        "    # Paso 6: Eliminar la columna \"Total Servicios\"\n",
        "    df_clean.drop(columns=['Total Servicios'], inplace=True)\n",
        "\n",
        "    # Paso 7: Eliminar el desglose por meses, dejando solo la última fila por año\n",
        "    df_clean_final = df_clean.groupby('Año').tail(1)\n",
        "\n",
        "    # Retornar el DataFrame limpio y reducido\n",
        "    return df_clean_final\n",
        "\n",
        "# Usar la función para limpiar el archivo\n",
        "df_limpio = limpiar_archivo(file_path)\n",
        "\n",
        "# Guardar el archivo limpio directamente como CSV\n",
        "nombre_salida_csv = file_path.replace('.xlsx', '_limpio_sin_meses.csv')\n",
        "df_limpio.to_csv(nombre_salida_csv, index=False)\n",
        "\n",
        "print(f\"Archivo CSV guardado en: {nombre_salida_csv}\")"
      ],
      "metadata": {
        "colab": {
          "base_uri": "https://localhost:8080/"
        },
        "id": "LRUgBnwxkBTT",
        "outputId": "f6b3d4f5-e31a-4cb3-8a9d-82415b352d5c"
      },
      "execution_count": 58,
      "outputs": [
        {
          "output_type": "stream",
          "name": "stdout",
          "text": [
            "Archivo CSV guardado en: /content/drive/MyDrive/articles-22851_recurso_Resultado2023_limpio_sin_meses.csv\n"
          ]
        }
      ]
    },
    {
      "cell_type": "code",
      "source": [
        "import pandas as pd\n",
        "import os\n",
        "\n",
        "# Directorio donde están los archivos CSV\n",
        "folder_path = '/content/drive/MyDrive/'\n",
        "\n",
        "# Lista de todos los archivos CSV en el directorio que desees combinar\n",
        "csv_files = [f for f in os.listdir(folder_path) if f.endswith('_limpio_sin_meses.csv')]\n",
        "\n",
        "# Leer y combinar todos los archivos CSV\n",
        "def combinar_csv(folder_path, csv_files):\n",
        "    # Lista para guardar los DataFrames\n",
        "    dfs = []\n",
        "    for file in csv_files:\n",
        "        # Leer el archivo CSV\n",
        "        df = pd.read_csv(os.path.join(folder_path, file))\n",
        "        # Extraer el año desde el nombre del archivo\n",
        "        año = file.split('_')[2]\n",
        "        df['Año'] = año\n",
        "        dfs.append(df)\n",
        "\n",
        "    # Concatenar todos los DataFrames\n",
        "    combined_df = pd.concat(dfs, ignore_index=True)\n",
        "\n",
        "    # Ordenar por año\n",
        "    combined_df = combined_df.sort_values('Año')\n",
        "\n",
        "    return combined_df\n",
        "\n",
        "# Combinar los archivos CSV\n",
        "df_combinado = combinar_csv(folder_path, csv_files)\n",
        "\n",
        "# Guardar el DataFrame combinado en un archivo CSV\n",
        "output_path = os.path.join(folder_path, 'articles_Resultado_combinado.csv')\n",
        "df_combinado.to_csv(output_path, index=False)\n",
        "\n",
        "print(f\"Archivo combinado guardado en: {output_path}\")\n"
      ],
      "metadata": {
        "colab": {
          "base_uri": "https://localhost:8080/"
        },
        "id": "dh5IdbXOkkkJ",
        "outputId": "b2450f29-a7a9-404a-a1a7-c522b2daf2b9"
      },
      "execution_count": 61,
      "outputs": [
        {
          "output_type": "stream",
          "name": "stdout",
          "text": [
            "Archivo combinado guardado en: /content/drive/MyDrive/articles_Resultado_combinado.csv\n"
          ]
        }
      ]
    }
  ]
}
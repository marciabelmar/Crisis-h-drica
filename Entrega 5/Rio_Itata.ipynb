{
  "nbformat": 4,
  "nbformat_minor": 0,
  "metadata": {
    "colab": {
      "provenance": []
    },
    "kernelspec": {
      "name": "python3",
      "display_name": "Python 3"
    },
    "language_info": {
      "name": "python"
    }
  },
  "cells": [
    {
      "cell_type": "code",
      "source": [
        "import pandas as pd\n",
        "\n",
        "# Montar Google Drive\n",
        "from google.colab import drive\n",
        "drive.mount('/content/drive')\n",
        "\n",
        "# Ruta al archivo en Google Drive\n",
        "file_path = '/content/drive/MyDrive/nav/Caudales-medios-mensuales-Rio-Itata.xlsx'\n",
        "\n",
        "# Cargar el archivo Excel\n",
        "excel = pd.ExcelFile(file_path)\n",
        "\n",
        "# Obtener los nombres de las hojas\n",
        "sheets = excel.sheet_names\n",
        "\n",
        "# Cargar todas las hojas en dataframes\n",
        "dfs = [excel.parse(sheet) for sheet in sheets]\n",
        "\n",
        "# Inicializar un diccionario para almacenar la suma de datos por año\n",
        "yearly_data = {\n",
        "    2019: 0,\n",
        "    2020: 0,\n",
        "    2021: 0,\n",
        "    2022: 0\n",
        "}\n",
        "\n",
        "# Definir las columnas que contienen los datos mensuales\n",
        "month_columns = ['Unnamed: 3', 'Unnamed: 5', 'Unnamed: 6', 'Unnamed: 7', 'Unnamed: 9',\n",
        "                 'Unnamed: 10', 'Unnamed: 11', 'Unnamed: 13', 'Unnamed: 14', 'Unnamed: 15',\n",
        "                 'Unnamed: 16', 'Unnamed: 17']\n",
        "\n",
        "# Función para extraer y sumar los datos mensuales de un dataframe\n",
        "def sum_monthly_data(df):\n",
        "    # Identificar las filas que contienen datos anuales\n",
        "    df_filtered = df.dropna(how='all').reset_index(drop=True)\n",
        "\n",
        "    if df_filtered.shape[0] > 1:\n",
        "        for index, row in df_filtered.iterrows():\n",
        "            if row['GOBIERNO DE CHILE'] in [2019, 2020, 2021, 2022]:\n",
        "                year = row['GOBIERNO DE CHILE']\n",
        "                monthly_values = pd.to_numeric(row[month_columns], errors='coerce')  # Convertir a numérico, forzando errores a NaN\n",
        "                yearly_sum = monthly_values.sum(skipna=True)  # Sumar los valores numéricos, ignorando NaNs\n",
        "                yearly_data[year] += yearly_sum\n",
        "\n",
        "# Procesar cada dataframe\n",
        "for df in dfs:\n",
        "    sum_monthly_data(df)\n",
        "\n",
        "# Convertir los resultados a un DataFrame para visualización\n",
        "yearly_data_df = pd.DataFrame.from_dict(yearly_data, orient='index', columns=['Caudal (m3/s)'])\n",
        "yearly_data_df.index.name = 'Año'\n",
        "\n",
        "# Añadir un título al DataFrame\n",
        "title = \"Caudales Medios Anuales Río Itata (m3/s)\"\n",
        "yearly_data_df.columns.name = title\n",
        "\n",
        "# Guardar el resultado en un archivo CSV\n",
        "csv_file_path = '/content/drive/MyDrive/nav/Yearly_Data_Summary.csv'\n",
        "yearly_data_df.to_csv(csv_file_path, index_label='Año')\n",
        "\n",
        "# Guardar el resultado en un archivo XLSX\n",
        "xlsx_file_path = '/content/drive/MyDrive/nav/Yearly_Data_Summary.xlsx'\n",
        "with pd.ExcelWriter(xlsx_file_path) as writer:\n",
        "    yearly_data_df.to_excel(writer, index_label='Año', sheet_name='Resumen')\n",
        "\n",
        "print(f'Resultados guardados en {csv_file_path} y {xlsx_file_path}')\n"
      ],
      "metadata": {
        "colab": {
          "base_uri": "https://localhost:8080/"
        },
        "id": "rmlfeEC4lHAk",
        "outputId": "19416234-da04-4c32-8e63-6183f7cb16cc"
      },
      "execution_count": 7,
      "outputs": [
        {
          "output_type": "stream",
          "name": "stdout",
          "text": [
            "Drive already mounted at /content/drive; to attempt to forcibly remount, call drive.mount(\"/content/drive\", force_remount=True).\n",
            "Resultados guardados en /content/drive/MyDrive/nav/Yearly_Data_Summary.csv y /content/drive/MyDrive/nav/Yearly_Data_Summary.xlsx\n"
          ]
        }
      ]
    }
  ]
}
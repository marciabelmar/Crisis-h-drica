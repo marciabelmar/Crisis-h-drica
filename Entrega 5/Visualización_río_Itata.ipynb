{
  "nbformat": 4,
  "nbformat_minor": 0,
  "metadata": {
    "colab": {
      "provenance": []
    },
    "kernelspec": {
      "name": "python3",
      "display_name": "Python 3"
    },
    "language_info": {
      "name": "python"
    }
  },
  "cells": [
    {
      "cell_type": "code",
      "source": [],
      "metadata": {
        "id": "8BcTrLt5jV6I"
      },
      "execution_count": null,
      "outputs": []
    },
    {
      "cell_type": "code",
      "source": [
        "import pandas as pd\n",
        "import plotly.express as px\n",
        "from google.colab import files  # Asegúrate de importar files desde google.colab\n",
        "\n",
        "# Ruta del archivo en Google Drive\n",
        "file_path = '/content/drive/MyDrive/nav/Yearly_Data_Summary.xlsx'\n",
        "\n",
        "# Leer el archivo Excel\n",
        "df = pd.read_excel(file_path, sheet_name='Resumen')\n",
        "\n",
        "# Asegurarse de que los años sean enteros\n",
        "df['Año'] = df['Año'].astype(int)\n",
        "\n",
        "# Definir una nueva paleta de colores\n",
        "new_color_palette = [\"#0079B6\", \"#0EBCCD\", \"#BCD5FF\"]\n",
        "\n",
        "# Crear un gráfico de área interactivo con los nuevos colores\n",
        "fig_area_corrected = px.area(df, x='Año', y='Caudal (m3/s)', title='Variación de los caudales del río Itata a través de los años',\n",
        "                             labels={'Año': 'Año', 'Caudal (m3/s)': 'Caudal (m3/s)'},\n",
        "                             color_discrete_sequence=new_color_palette)\n",
        "\n",
        "# Configurar los ticks del eje x para mostrar solo los años relevantes\n",
        "fig_area_corrected.update_layout(xaxis=dict(tickmode='array', tickvals=[2019, 2020, 2021, 2022]))\n",
        "\n",
        "# Guardar la visualización como un archivo HTML\n",
        "fig_area_corrected.write_html(\"visualizacion.html\")\n",
        "\n",
        "# Descargar el archivo HTML\n",
        "files.download(\"visualizacion.html\")\n"
      ],
      "metadata": {
        "colab": {
          "base_uri": "https://localhost:8080/",
          "height": 34
        },
        "id": "zubbb02Zj7pN",
        "outputId": "4838bbce-df52-4b44-8ca6-197222099de6"
      },
      "execution_count": 12,
      "outputs": [
        {
          "output_type": "display_data",
          "data": {
            "text/plain": [
              "<IPython.core.display.Javascript object>"
            ],
            "application/javascript": [
              "\n",
              "    async function download(id, filename, size) {\n",
              "      if (!google.colab.kernel.accessAllowed) {\n",
              "        return;\n",
              "      }\n",
              "      const div = document.createElement('div');\n",
              "      const label = document.createElement('label');\n",
              "      label.textContent = `Downloading \"${filename}\": `;\n",
              "      div.appendChild(label);\n",
              "      const progress = document.createElement('progress');\n",
              "      progress.max = size;\n",
              "      div.appendChild(progress);\n",
              "      document.body.appendChild(div);\n",
              "\n",
              "      const buffers = [];\n",
              "      let downloaded = 0;\n",
              "\n",
              "      const channel = await google.colab.kernel.comms.open(id);\n",
              "      // Send a message to notify the kernel that we're ready.\n",
              "      channel.send({})\n",
              "\n",
              "      for await (const message of channel.messages) {\n",
              "        // Send a message to notify the kernel that we're ready.\n",
              "        channel.send({})\n",
              "        if (message.buffers) {\n",
              "          for (const buffer of message.buffers) {\n",
              "            buffers.push(buffer);\n",
              "            downloaded += buffer.byteLength;\n",
              "            progress.value = downloaded;\n",
              "          }\n",
              "        }\n",
              "      }\n",
              "      const blob = new Blob(buffers, {type: 'application/binary'});\n",
              "      const a = document.createElement('a');\n",
              "      a.href = window.URL.createObjectURL(blob);\n",
              "      a.download = filename;\n",
              "      div.appendChild(a);\n",
              "      a.click();\n",
              "      div.remove();\n",
              "    }\n",
              "  "
            ]
          },
          "metadata": {}
        },
        {
          "output_type": "display_data",
          "data": {
            "text/plain": [
              "<IPython.core.display.Javascript object>"
            ],
            "application/javascript": [
              "download(\"download_1dcb6655-8848-4d3e-9a9d-957caae1c6f2\", \"visualizacion.html\", 3594519)"
            ]
          },
          "metadata": {}
        }
      ]
    }
  ]
}